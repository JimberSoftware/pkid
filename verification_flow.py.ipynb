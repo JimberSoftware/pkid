{
 "cells": [
  {
   "cell_type": "code",
   "execution_count": 270,
   "metadata": {},
   "outputs": [],
   "source": [
    "import base64 as base64\n",
    "import urllib.parse\n",
    "import nacl.utils\n",
    "import nacl.bindings\n",
    "import nacl.encoding\n",
    "import nacl.signing"
   ]
  },
  {
   "cell_type": "code",
   "execution_count": 216,
   "metadata": {},
   "outputs": [
    {
     "name": "stdout",
     "output_type": "stream",
     "text": [
      "b'\\x05\\x89.U\\n\\x86\\x9f\\xc1\\xc0\\xb6\\xb0_\\xfa\\xca\\x1f%cn\\xbc\\xaaE\\xfa\\xc9\\xf5\\t\\xfc\\x9e+\\xad\\xdf\\x0f\\n'\n"
     ]
    }
   ],
   "source": [
    "signing_key = nacl.signing.SigningKey.generate()\n",
    "print(signing_key)"
   ]
  },
  {
   "cell_type": "code",
   "execution_count": 265,
   "metadata": {},
   "outputs": [
    {
     "name": "stdout",
     "output_type": "stream",
     "text": [
      "JOjE95c5tQck4WYrWFEjDluSVVC55+kTnTq/o2YZfd8Gp7l9WBJ6n1u7p2HXJWrjrNz2L8x+1jXberAo6Vn+BnRlc3Q=\n"
     ]
    }
   ],
   "source": [
    "signed = signing_key.sign(b'test')\n",
    "print(base64.b64encode(signed).decode('utf-8')) # Signed message"
   ]
  },
  {
   "cell_type": "code",
   "execution_count": 267,
   "metadata": {},
   "outputs": [
    {
     "name": "stdout",
     "output_type": "stream",
     "text": [
      "b'\\x009\\x04G\\xde\\x04\\xfd\\xf6\\xcb\\xeej\\xd7d%\\xf5V\\xfc\\xf7e+PWNn\\xd3\\xb98\\xc3[\\xb1]F'\n"
     ]
    }
   ],
   "source": [
    "verify_key = signing_key.verify_key\n",
    "print(verify_key)"
   ]
  },
  {
   "cell_type": "code",
   "execution_count": 285,
   "metadata": {},
   "outputs": [
    {
     "name": "stdout",
     "output_type": "stream",
     "text": [
      "00390447de04fdf6cbee6ad76425f556fcf7652b50574e6ed3b938c35bb15d46\n",
      "MDAzOTA0NDdkZTA0ZmRmNmNiZWU2YWQ3NjQyNWY1NTZmY2Y3NjUyYjUwNTc0ZTZlZDNiOTM4YzM1YmIxNWQ0Ng==\n"
     ]
    }
   ],
   "source": [
    "verify_key_hex = verify_key.encode(encoder=nacl.encoding.HexEncoder)\n",
    "print(verify_key_hex.decode('utf-8'))\n",
    "print(base64.b64encode(bytes(verify_key_hex)).decode('utf-8')) # Public key."
   ]
  },
  {
   "cell_type": "code",
   "execution_count": 282,
   "metadata": {},
   "outputs": [
    {
     "name": "stdout",
     "output_type": "stream",
     "text": [
      "b'\\x009\\x04G\\xde\\x04\\xfd\\xf6\\xcb\\xeej\\xd7d%\\xf5V\\xfc\\xf7e+PWNn\\xd3\\xb98\\xc3[\\xb1]F'\n"
     ]
    }
   ],
   "source": [
    "verify_key = nacl.signing.VerifyKey(bytes(verify_key).hex(), encoder=nacl.encoding.HexEncoder)\n",
    "print(verify_key)"
   ]
  },
  {
   "cell_type": "code",
   "execution_count": 283,
   "metadata": {},
   "outputs": [
    {
     "name": "stdout",
     "output_type": "stream",
     "text": [
      "b'test'\n"
     ]
    }
   ],
   "source": [
    "verified_key_output = verify_key.verify(signed)\n",
    "print(verified_key_output)"
   ]
  },
  {
   "cell_type": "code",
   "execution_count": null,
   "metadata": {},
   "outputs": [],
   "source": []
  },
  {
   "cell_type": "code",
   "execution_count": null,
   "metadata": {},
   "outputs": [],
   "source": []
  },
  {
   "cell_type": "code",
   "execution_count": null,
   "metadata": {},
   "outputs": [],
   "source": []
  },
  {
   "cell_type": "code",
   "execution_count": null,
   "metadata": {},
   "outputs": [],
   "source": []
  },
  {
   "cell_type": "code",
   "execution_count": null,
   "metadata": {},
   "outputs": [],
   "source": []
  },
  {
   "cell_type": "code",
   "execution_count": null,
   "metadata": {},
   "outputs": [],
   "source": []
  }
 ],
 "metadata": {
  "kernelspec": {
   "display_name": "Python 3",
   "language": "python",
   "name": "python3"
  },
  "language_info": {
   "codemirror_mode": {
    "name": "ipython",
    "version": 3
   },
   "file_extension": ".py",
   "mimetype": "text/x-python",
   "name": "python",
   "nbconvert_exporter": "python",
   "pygments_lexer": "ipython3",
   "version": "3.7.3"
  }
 },
 "nbformat": 4,
 "nbformat_minor": 2
}
